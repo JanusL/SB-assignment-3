{
 "cells": [
  {
   "cell_type": "code",
   "execution_count": 1,
   "metadata": {},
   "outputs": [],
   "source": [
    "#a triplet loss based training. It failed to produce good results.\n",
    "\n",
    "import json\n",
    "import os\n",
    "\n",
    "data = {}\n",
    "dataroot = \"awe\"\n",
    "\n",
    "for i in range(1,101):\n",
    "    with open(os.path.join(dataroot,str(i).zfill(3),\"annotations.json\")) as f:\n",
    "        data[str(i).zfill(3)] = json.load(f)"
   ]
  },
  {
   "cell_type": "code",
   "execution_count": 2,
   "metadata": {},
   "outputs": [
    {
     "name": "stdout",
     "output_type": "stream",
     "text": [
      "3\n"
     ]
    }
   ],
   "source": [
    "print(list(data.keys()).index(\"004\"))"
   ]
  },
  {
   "cell_type": "code",
   "execution_count": 3,
   "metadata": {},
   "outputs": [],
   "source": [
    "#definition of our dataset. Returns triplets of images, two of same person and one of another\n",
    "\n",
    "from torch.utils.data import Dataset, DataLoader\n",
    "from itertools import combinations,permutations\n",
    "import random\n",
    "from skimage import io, color\n",
    "from skimage.transform import rescale\n",
    "from skimage.util import pad\n",
    "from torchvision import transforms\n",
    "from torchvision.transforms.functional import pad\n",
    "\n",
    "imgsize = 128\n",
    "\n",
    "class EarDataset(Dataset):\n",
    "    \"\"\"Ear dataset.\"\"\"\n",
    "    \n",
    "    \n",
    "    def __init__(self, root_dir, data, values=range(10)):\n",
    "\n",
    "        #self.data = data\n",
    "        #self.dataroot = root_dir\n",
    "        \n",
    "        self.data = []\n",
    "        \n",
    "        for num, i in enumerate(data):\n",
    "            \n",
    "            root = os.path.join(root_dir,i)\n",
    "            imgdirs = []\n",
    "            for num, j in enumerate(data[i][\"data\"]):\n",
    "                if num not in values:\n",
    "                    continue\n",
    "                imgdirs.append(os.path.join(root,data[i][\"data\"][j][\"file\"]))\n",
    "            comb = list(permutations(imgdirs,2))\n",
    "            #comb[0] = list(comb[0])\n",
    "            \n",
    "            for j in range(len(comb)):\n",
    "                comb[j] = list(comb[j])\n",
    "                #randi = i\n",
    "                #while(randi==i or list(data.keys()).index(randi) not in values):\n",
    "                #    randi = random.choice(list(data.keys()))\n",
    "                #randj = random.choice(list(data[randi][\"data\"].keys()))\n",
    "                #comb[j].append(os.path.join(root_dir,randi,data[randi][\"data\"][randj][\"file\"]))\n",
    "                \n",
    "            \n",
    "            self.data.append(comb)\n",
    "\n",
    "        print(len(self.data),len(self.data[0]))\n",
    "\n",
    "    def __len__(self):\n",
    "        return len(self.data) * len(self.data[0])\n",
    "\n",
    "    def __getitem__(self, idx):\n",
    "        if torch.is_tensor(idx):\n",
    "            idx = idx.tolist()\n",
    "\n",
    "        j = int(idx%len(self.data[0]))\n",
    "        i = int(idx/len(self.data[0]))\n",
    "        \n",
    "        randi = i\n",
    "        while(randi==i):\n",
    "            randi = random.randint(0,len(self.data))\n",
    "        randj = random.randint(0,len(self.data[0]))\n",
    "                \n",
    "        image1 = io.imread(self.data[i][j][0])\n",
    "        image2 = io.imread(self.data[i][j][1])\n",
    "        imager = io.imread(self.data[randi-1][randj-1][0])\n",
    "        \n",
    "        #print(image1.dtype)\n",
    "\n",
    "        if len(image1.shape) == 2:\n",
    "            image1 = color.gray2rgb(image1)\n",
    "        elif image1.shape[2] == 4:\n",
    "            image1 = image1[:,:,:3]\n",
    "        if len(image2.shape) == 2:\n",
    "            image2 = color.gray2rgb(image2)\n",
    "        elif image2.shape[2] == 4:\n",
    "            image2 = image2[:,:,:3]\n",
    "        if len(imager.shape) == 2:\n",
    "            imager = color.gray2rgb(imager)\n",
    "        elif imager.shape[2] == 4:\n",
    "            imager = imager[:,:,:3]\n",
    "    \n",
    "        image1 = rescale(image1,imgsize/image1.shape[0],multichannel = True)\n",
    "        image2 = rescale(image2,imgsize/image2.shape[0],multichannel = True)\n",
    "        imager = rescale(imager,imgsize/imager.shape[0],multichannel = True)\n",
    "        \n",
    "        #image1r = pad(image1,100)\n",
    "        #print(image1r.shape,image1.shape)\n",
    "        \n",
    "    \n",
    "        return image_transform(image1).type(torch.FloatTensor)[:,:,:128], image_transform(image2)[:,:,:128].type(torch.FloatTensor), image_transform(imager).type(torch.FloatTensor)[:,:,:128]\n",
    "        \n",
    "image_transform = transforms.Compose([\n",
    "        #transforms.ToPILImage(),\n",
    "        transforms.ToTensor(),\n",
    "        transforms.Pad((0,0,128,0)),\n",
    "        transforms.Normalize([0.485, 0.456, 0.406], [0.229, 0.224, 0.225])\n",
    "    ])"
   ]
  },
  {
   "cell_type": "code",
   "execution_count": null,
   "metadata": {},
   "outputs": [],
   "source": []
  },
  {
   "cell_type": "code",
   "execution_count": 4,
   "metadata": {},
   "outputs": [
    {
     "name": "stdout",
     "output_type": "stream",
     "text": [
      "100 42\n",
      "100 6\n"
     ]
    }
   ],
   "source": [
    "import torch\n",
    "\n",
    "dataset_train = EarDataset(dataroot,data,values=range(0,7))\n",
    "dataset_loader_train = torch.utils.data.DataLoader(dataset_train,\n",
    "                                             batch_size=4, shuffle=True,\n",
    "                                             num_workers=4)\n",
    "dataset_test = EarDataset(dataroot,data,values=range(7,10))\n",
    "dataset_loader_valid = torch.utils.data.DataLoader(dataset_test,\n",
    "                                             batch_size=32, shuffle=True,\n",
    "                                             num_workers=4)"
   ]
  },
  {
   "cell_type": "code",
   "execution_count": 5,
   "metadata": {},
   "outputs": [
    {
     "name": "stderr",
     "output_type": "stream",
     "text": [
      "Clipping input data to the valid range for imshow with RGB data ([0..1] for floats or [0..255] for integers).\n",
      "Clipping input data to the valid range for imshow with RGB data ([0..1] for floats or [0..255] for integers).\n",
      "Clipping input data to the valid range for imshow with RGB data ([0..1] for floats or [0..255] for integers).\n"
     ]
    },
    {
     "data": {
      "image/png": "[encoded data removed]",
      "text/plain": [
       "<Figure size 432x288 with 1 Axes>"
      ]
     },
     "metadata": {
      "needs_background": "light"
     },
     "output_type": "display_data"
    },
    {
     "data": {
      "image/png": "[encoded data removed]",
      "text/plain": [
       "<Figure size 432x288 with 1 Axes>"
      ]
     },
     "metadata": {
      "needs_background": "light"
     },
     "output_type": "display_data"
    },
    {
     "data": {
      "image/png": "[encoded data removed]",
      "text/plain": [
       "<Figure size 432x288 with 1 Axes>"
      ]
     },
     "metadata": {
      "needs_background": "light"
     },
     "output_type": "display_data"
    }
   ],
   "source": [
    "import matplotlib.pyplot as plt\n",
    "import numpy as np\n",
    "\n",
    "for i in dataset_loader_train:\n",
    "    #print(i[0].shape)\n",
    "    plt.figure()\n",
    "    plt.imshow(i[0][0].permute(1,2,0))\n",
    "    plt.figure()\n",
    "    plt.imshow(i[1][0].permute(1,2,0))\n",
    "    plt.figure()\n",
    "    plt.imshow(i[2][0].permute(1,2,0))\n",
    "    break"
   ]
  },
  {
   "cell_type": "code",
   "execution_count": 6,
   "metadata": {},
   "outputs": [],
   "source": [
    "import torchvision.models as models\n",
    "import torch.nn as nn\n",
    "from torchsummary import summary\n",
    "\n",
    "\n",
    "net = models.resnet50(pretrained=True)\n",
    "num_ftrs = net.fc.in_features\n",
    "net.fc = nn.Linear(num_ftrs, 128)\n",
    "net.cuda()\n",
    "#summary(resnet50,(3,128,60))\n",
    "\n",
    "criterion = nn.TripletMarginLoss(margin=0.2).cuda()\n",
    "optimizer = torch.optim.Adam(net.parameters(), lr=0.001)"
   ]
  },
  {
   "cell_type": "code",
   "execution_count": 7,
   "metadata": {},
   "outputs": [],
   "source": [
    "import time\n",
    "from tqdm import tqdm\n",
    "\n",
    "losses_train = []\n",
    "losses_valid = []\n",
    "\n",
    "def train_model(model, criterion, optimizer, num_epochs=2, validation=False):\n",
    "    since = time.time()\n",
    "\n",
    "    for epoch in range(num_epochs):\n",
    "        print('Epoch {}/{}'.format(epoch, num_epochs - 1))\n",
    "        print('-' * 10)\n",
    "\n",
    "        # Each epoch has a training and validation phase\n",
    "        for phase in ['train','valid']:\n",
    "            \n",
    "            if phase == 'train':\n",
    "                if validation:\n",
    "                    continue\n",
    "                model.train()  # Set model to training mode\n",
    "            else:\n",
    "                model.eval()   # Set model to evaluate mode\n",
    "\n",
    "            print(\"Starting phase: \", phase)\n",
    "            running_loss = 0.0    \n",
    "            running_eucp = 0.0\n",
    "            running_eucn = 0.0\n",
    "            # Iterate over data.\n",
    "            dataload = dataset_loader_train if phase == 'train' else dataset_loader_valid\n",
    "            for stuff in tqdm(dataload):\n",
    "                \n",
    "                image1,image2,imager = stuff\n",
    "                \n",
    "                image1 = image1.cuda()\n",
    "                image2 = image2.cuda()\n",
    "                imager = imager.cuda()\n",
    "\n",
    "                # zero the parameter gradients\n",
    "                optimizer.zero_grad()\n",
    "\n",
    "                # forward\n",
    "                # track history if only in train\n",
    "                with torch.set_grad_enabled(phase == 'train'):\n",
    "                    outputs1 = model(image1)\n",
    "                #Swith torch.set_grad_enabled(False):\n",
    "                    outputs2 = model(image2)\n",
    "                    outputsr = model(imager)\n",
    "                    loss = criterion(outputs1, outputs2, outputsr)\n",
    "\n",
    "                    # backward + optimize only if in training phase\n",
    "                    if phase == 'train':\n",
    "                        loss.backward()\n",
    "                        optimizer.step()\n",
    "                    \n",
    "\n",
    "                # statistics\n",
    "                running_loss += loss.item() #* images.size(0)\n",
    "                running_eucp += calc_euclidean(outputs1.cpu().detach().numpy(),outputs2.cpu().detach().numpy())\n",
    "                running_eucn += calc_euclidean(outputs1.cpu().detach().numpy(),outputsr.cpu().detach().numpy())\n",
    "                \n",
    "            epoch_loss = running_loss / len(dataload.dataset)\n",
    "            epoch_eucp = running_eucp / len(dataload.dataset)\n",
    "            epoch_eucn = running_eucn / len(dataload.dataset)\n",
    "            \n",
    "            if(phase == 'train'):\n",
    "                losses_train.append(epoch_loss)\n",
    "            else:\n",
    "                losses_valid.append(epoch_loss)\n",
    "            #epoch_acc = running_corrects.double() / dataset_sizes[phase]\n",
    "\n",
    "            print('{} Loss: {:.4f} Eucp: {:.4f} Eucn: {:.4f}'.format(\n",
    "                phase, epoch_loss, epoch_eucp, epoch_eucn))\n",
    "\n",
    "    time_elapsed = time.time() - since\n",
    "    print('Training complete in {:.0f}m {:.0f}s'.format(\n",
    "        time_elapsed // 60, time_elapsed % 60))\n",
    "    #print('Best val Acc: {:4f}'.format(best_acc))\n",
    "\n",
    "    return model"
   ]
  },
  {
   "cell_type": "code",
   "execution_count": 8,
   "metadata": {},
   "outputs": [],
   "source": [
    "def calc_euclidean(x1, x2):\n",
    "        return np.square(np.sum(x1 - x2))"
   ]
  },
  {
   "cell_type": "code",
   "execution_count": 9,
   "metadata": {},
   "outputs": [
    {
     "name": "stderr",
     "output_type": "stream",
     "text": [
      "  0%|          | 0/1050 [00:00<?, ?it/s]"
     ]
    },
    {
     "name": "stdout",
     "output_type": "stream",
     "text": [
      "Epoch 0/9\n",
      "----------\n",
      "Starting phase:  train\n"
     ]
    },
    {
     "name": "stderr",
     "output_type": "stream",
     "text": [
      "100%|██████████| 1050/1050 [01:47<00:00,  9.78it/s]\n",
      "  0%|          | 0/19 [00:00<?, ?it/s]"
     ]
    },
    {
     "name": "stdout",
     "output_type": "stream",
     "text": [
      "train Loss: 0.0887 Eucp: 2.7556 Eucn: 3.1005\n",
      "Starting phase:  valid\n"
     ]
    },
    {
     "name": "stderr",
     "output_type": "stream",
     "text": [
      "100%|██████████| 19/19 [00:02<00:00,  7.61it/s]\n",
      "  0%|          | 0/1050 [00:00<?, ?it/s]"
     ]
    },
    {
     "name": "stdout",
     "output_type": "stream",
     "text": [
      "valid Loss: 0.0111 Eucp: 1.3994 Eucn: 1.7987\n",
      "Epoch 1/9\n",
      "----------\n",
      "Starting phase:  train\n"
     ]
    },
    {
     "name": "stderr",
     "output_type": "stream",
     "text": [
      "100%|██████████| 1050/1050 [01:49<00:00,  9.59it/s]\n",
      "  0%|          | 0/19 [00:00<?, ?it/s]"
     ]
    },
    {
     "name": "stdout",
     "output_type": "stream",
     "text": [
      "train Loss: 0.0502 Eucp: 1.0073 Eucn: 1.2138\n",
      "Starting phase:  valid\n"
     ]
    },
    {
     "name": "stderr",
     "output_type": "stream",
     "text": [
      "100%|██████████| 19/19 [00:02<00:00,  7.22it/s]\n",
      "  0%|          | 0/1050 [00:00<?, ?it/s]"
     ]
    },
    {
     "name": "stdout",
     "output_type": "stream",
     "text": [
      "valid Loss: 0.0060 Eucp: 0.0163 Eucn: 0.0261\n",
      "Epoch 2/9\n",
      "----------\n",
      "Starting phase:  train\n"
     ]
    },
    {
     "name": "stderr",
     "output_type": "stream",
     "text": [
      "100%|██████████| 1050/1050 [01:47<00:00,  9.79it/s]\n",
      "  0%|          | 0/19 [00:00<?, ?it/s]"
     ]
    },
    {
     "name": "stdout",
     "output_type": "stream",
     "text": [
      "train Loss: 0.0403 Eucp: 0.4096 Eucn: 0.6365\n",
      "Starting phase:  valid\n"
     ]
    },
    {
     "name": "stderr",
     "output_type": "stream",
     "text": [
      "100%|██████████| 19/19 [00:02<00:00,  7.26it/s]\n",
      "  0%|          | 0/1050 [00:00<?, ?it/s]"
     ]
    },
    {
     "name": "stdout",
     "output_type": "stream",
     "text": [
      "valid Loss: 0.0065 Eucp: 0.0403 Eucn: 0.0500\n",
      "Epoch 3/9\n",
      "----------\n",
      "Starting phase:  train\n"
     ]
    },
    {
     "name": "stderr",
     "output_type": "stream",
     "text": [
      "100%|██████████| 1050/1050 [01:47<00:00,  9.73it/s]\n",
      "  0%|          | 0/19 [00:00<?, ?it/s]"
     ]
    },
    {
     "name": "stdout",
     "output_type": "stream",
     "text": [
      "train Loss: 0.0351 Eucp: 0.3627 Eucn: 0.6838\n",
      "Starting phase:  valid\n"
     ]
    },
    {
     "name": "stderr",
     "output_type": "stream",
     "text": [
      "100%|██████████| 19/19 [00:02<00:00,  7.24it/s]\n",
      "  0%|          | 0/1050 [00:00<?, ?it/s]"
     ]
    },
    {
     "name": "stdout",
     "output_type": "stream",
     "text": [
      "valid Loss: 0.0051 Eucp: 0.0986 Eucn: 0.0688\n",
      "Epoch 4/9\n",
      "----------\n",
      "Starting phase:  train\n"
     ]
    },
    {
     "name": "stderr",
     "output_type": "stream",
     "text": [
      "100%|██████████| 1050/1050 [01:49<00:00,  9.56it/s]\n",
      "  0%|          | 0/19 [00:00<?, ?it/s]"
     ]
    },
    {
     "name": "stdout",
     "output_type": "stream",
     "text": [
      "train Loss: 0.0355 Eucp: 0.4820 Eucn: 1.1511\n",
      "Starting phase:  valid\n"
     ]
    },
    {
     "name": "stderr",
     "output_type": "stream",
     "text": [
      "100%|██████████| 19/19 [00:02<00:00,  7.40it/s]\n",
      "  0%|          | 0/1050 [00:00<?, ?it/s]"
     ]
    },
    {
     "name": "stdout",
     "output_type": "stream",
     "text": [
      "valid Loss: 0.0058 Eucp: 0.1601 Eucn: 0.4190\n",
      "Epoch 5/9\n",
      "----------\n",
      "Starting phase:  train\n"
     ]
    },
    {
     "name": "stderr",
     "output_type": "stream",
     "text": [
      "100%|██████████| 1050/1050 [01:49<00:00,  9.60it/s]\n",
      "  0%|          | 0/19 [00:00<?, ?it/s]"
     ]
    },
    {
     "name": "stdout",
     "output_type": "stream",
     "text": [
      "train Loss: 0.0354 Eucp: 0.4947 Eucn: 1.0878\n",
      "Starting phase:  valid\n"
     ]
    },
    {
     "name": "stderr",
     "output_type": "stream",
     "text": [
      "100%|██████████| 19/19 [00:02<00:00,  7.43it/s]\n",
      "  0%|          | 0/1050 [00:00<?, ?it/s]"
     ]
    },
    {
     "name": "stdout",
     "output_type": "stream",
     "text": [
      "valid Loss: 0.0071 Eucp: 1.0033 Eucn: 0.9816\n",
      "Epoch 6/9\n",
      "----------\n",
      "Starting phase:  train\n"
     ]
    },
    {
     "name": "stderr",
     "output_type": "stream",
     "text": [
      "100%|██████████| 1050/1050 [01:51<00:00,  9.45it/s]\n",
      "  0%|          | 0/19 [00:00<?, ?it/s]"
     ]
    },
    {
     "name": "stdout",
     "output_type": "stream",
     "text": [
      "train Loss: 0.0418 Eucp: 0.4501 Eucn: 0.7402\n",
      "Starting phase:  valid\n"
     ]
    },
    {
     "name": "stderr",
     "output_type": "stream",
     "text": [
      "100%|██████████| 19/19 [00:02<00:00,  7.53it/s]\n",
      "  0%|          | 0/1050 [00:00<?, ?it/s]"
     ]
    },
    {
     "name": "stdout",
     "output_type": "stream",
     "text": [
      "valid Loss: 0.0054 Eucp: 0.4558 Eucn: 1.2892\n",
      "Epoch 7/9\n",
      "----------\n",
      "Starting phase:  train\n"
     ]
    },
    {
     "name": "stderr",
     "output_type": "stream",
     "text": [
      "100%|██████████| 1050/1050 [01:51<00:00,  9.46it/s]\n",
      "  0%|          | 0/19 [00:00<?, ?it/s]"
     ]
    },
    {
     "name": "stdout",
     "output_type": "stream",
     "text": [
      "train Loss: 0.0330 Eucp: 0.4066 Eucn: 0.8985\n",
      "Starting phase:  valid\n"
     ]
    },
    {
     "name": "stderr",
     "output_type": "stream",
     "text": [
      "100%|██████████| 19/19 [00:02<00:00,  6.88it/s]\n",
      "  0%|          | 0/1050 [00:00<?, ?it/s]"
     ]
    },
    {
     "name": "stdout",
     "output_type": "stream",
     "text": [
      "valid Loss: 0.0062 Eucp: 0.7355 Eucn: 2.0895\n",
      "Epoch 8/9\n",
      "----------\n",
      "Starting phase:  train\n"
     ]
    },
    {
     "name": "stderr",
     "output_type": "stream",
     "text": [
      "100%|██████████| 1050/1050 [01:49<00:00,  9.58it/s]\n",
      "  0%|          | 0/19 [00:00<?, ?it/s]"
     ]
    },
    {
     "name": "stdout",
     "output_type": "stream",
     "text": [
      "train Loss: 0.0310 Eucp: 0.2327 Eucn: 0.5342\n",
      "Starting phase:  valid\n"
     ]
    },
    {
     "name": "stderr",
     "output_type": "stream",
     "text": [
      "100%|██████████| 19/19 [00:02<00:00,  7.36it/s]\n",
      "  0%|          | 0/1050 [00:00<?, ?it/s]"
     ]
    },
    {
     "name": "stdout",
     "output_type": "stream",
     "text": [
      "valid Loss: 0.0047 Eucp: 0.0387 Eucn: 0.2125\n",
      "Epoch 9/9\n",
      "----------\n",
      "Starting phase:  train\n"
     ]
    },
    {
     "name": "stderr",
     "output_type": "stream",
     "text": [
      "100%|██████████| 1050/1050 [01:49<00:00,  9.61it/s]\n",
      "  0%|          | 0/19 [00:00<?, ?it/s]"
     ]
    },
    {
     "name": "stdout",
     "output_type": "stream",
     "text": [
      "train Loss: 0.0308 Eucp: 0.1348 Eucn: 0.3408\n",
      "Starting phase:  valid\n"
     ]
    },
    {
     "name": "stderr",
     "output_type": "stream",
     "text": [
      "100%|██████████| 19/19 [00:02<00:00,  7.08it/s]"
     ]
    },
    {
     "name": "stdout",
     "output_type": "stream",
     "text": [
      "valid Loss: 0.0044 Eucp: 0.0561 Eucn: 0.1796\n",
      "Training complete in 18m 38s\n"
     ]
    },
    {
     "name": "stderr",
     "output_type": "stream",
     "text": [
      "\n"
     ]
    }
   ],
   "source": [
    "net = net.cuda()\n",
    "net = train_model(net, criterion, optimizer, num_epochs=10)"
   ]
  },
  {
   "cell_type": "code",
   "execution_count": 68,
   "metadata": {},
   "outputs": [
    {
     "ename": "NameError",
     "evalue": "name 'epoch_loss' is not defined",
     "output_type": "error",
     "traceback": [
      "\u001b[0;31m---------------------------------------------------------------------------\u001b[0m",
      "\u001b[0;31mNameError\u001b[0m                                 Traceback (most recent call last)",
      "\u001b[0;32m<ipython-input-68-fb1479845dce>\u001b[0m in \u001b[0;36m<module>\u001b[0;34m\u001b[0m\n\u001b[0;32m----> 1\u001b[0;31m \u001b[0mprint\u001b[0m\u001b[0;34m(\u001b[0m\u001b[0mepoch_loss\u001b[0m\u001b[0;34m)\u001b[0m\u001b[0;34m\u001b[0m\u001b[0;34m\u001b[0m\u001b[0m\n\u001b[0m",
      "\u001b[0;31mNameError\u001b[0m: name 'epoch_loss' is not defined"
     ]
    }
   ],
   "source": [
    "print(epoch_loss)"
   ]
  },
  {
   "cell_type": "code",
   "execution_count": 13,
   "metadata": {},
   "outputs": [
    {
     "name": "stderr",
     "output_type": "stream",
     "text": [
      "100%|██████████| 1050/1050 [00:31<00:00, 33.32it/s]"
     ]
    },
    {
     "name": "stdout",
     "output_type": "stream",
     "text": [
      "2804 1396\n"
     ]
    },
    {
     "name": "stderr",
     "output_type": "stream",
     "text": [
      "\n"
     ]
    }
   ],
   "source": [
    "cr = 0\n",
    "wr = 0\n",
    "\n",
    "for stuff in tqdm(dataset_loader_train):    \n",
    "    \n",
    "    image1,image2,imager = stuff\n",
    "\n",
    "    image1 = image1.cuda()\n",
    "    image2 = image2.cuda()\n",
    "    imager = imager.cuda()\n",
    "\n",
    "    with torch.set_grad_enabled(False):\n",
    "        outputs1 = net(image1)\n",
    "        outputs2 = net(image2)\n",
    "        outputsr = net(imager)\n",
    "    \n",
    "    for i in range(outputs1.shape[0]):\n",
    "        eucp = calc_euclidean(outputs1[i].cpu().detach().numpy(),outputs2[i].cpu().detach().numpy())\n",
    "        eucn = calc_euclidean(outputs1[i].cpu().detach().numpy(),outputsr[i].cpu().detach().numpy())\n",
    "        if eucp >= eucn:\n",
    "            wr +=1\n",
    "        else:\n",
    "            cr +=1\n",
    "\n",
    "print(cr,wr)\n"
   ]
  },
  {
   "cell_type": "code",
   "execution_count": null,
   "metadata": {},
   "outputs": [],
   "source": []
  },
  {
   "cell_type": "code",
   "execution_count": null,
   "metadata": {},
   "outputs": [],
   "source": []
  }
 ],
 "metadata": {
  "kernelspec": {
   "display_name": "Python 3",
   "language": "python",
   "name": "python3"
  },
  "language_info": {
   "codemirror_mode": {
    "name": "ipython",
    "version": 3
   },
   "file_extension": ".py",
   "mimetype": "text/x-python",
   "name": "python",
   "nbconvert_exporter": "python",
   "pygments_lexer": "ipython3",
   "version": "3.7.6"
  }
 },
 "nbformat": 4,
 "nbformat_minor": 4
}
